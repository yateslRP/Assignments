{
 "cells": [
  {
   "cell_type": "markdown",
   "metadata": {},
   "source": [
    "<img src=\"https://datasciencedegree.wisconsin.edu/wp-content/themes/data-gulp/images/logo.svg\" width=\"300\">\n"
   ]
  },
  {
   "cell_type": "markdown",
   "metadata": {},
   "source": [
    "# Assignment 1\n",
    "\n",
    "* Read and follow the entire notebook as part of your training.  \n",
    "* In this assignment, something you must do is preceded with 🎯.\n",
    "* 🎯 All code cells are intended for you to run!  Run them all!\n",
    "\n",
    "Goals include:\n",
    "* learning some Jupyter hotkeys\n",
    "* learning some [Python](https://en.wikipedia.org/wiki/Python_%28programming_language%29)\n",
    "* learning some markdown\n",
    "* getting used to Python 3 formatting: `'{}'.format(a)` \n",
    "* previewing functions, because they are super important\n",
    "* giving you an opportunity to share about yourself, your background, and your goals in this class.  This part is important to us as instructors, so we can better serve you.\n",
    "\n"
   ]
  },
  {
   "cell_type": "markdown",
   "metadata": {},
   "source": [
    "## Welcome to Jupyter notebooks!  \n",
    "\n",
    "In DS710, Programming for Data Science, we're going to use [Jupyter](https://jupyter.org/) for our [Python](https://www.python.org/) interface.  The other major alternative is [command line calls to the python interpreter](https://docs.python.org/3/using/cmdline.html) coupled with plain text files; [here](https://automatetheboringstuff.com/chapter8/) is a brief introduction.  These notebooks are great for [short interactive code](https://svds.com/why-notebooks-are-super-charging-data-science/) like that for data science presentations, and story telling.  Command line Python and text files are good for [library code](https://www.learnpython.org/en/Modules_and_Packages) which will be used in many places.  Neither is better or worse -- they are different tools for solving problems.\n",
    "\n",
    "Since we are focused on story telling and not library code in DS710, we will use Jupyter notebooks."
   ]
  },
  {
   "cell_type": "markdown",
   "metadata": {},
   "source": [
    "### Cell types"
   ]
  },
  {
   "cell_type": "markdown",
   "metadata": {},
   "source": [
    "This cell is a markdown cell, which means it contains text.  You can also link to images, make tables, and much more.  Markdown cells are for narrative supporting code and results."
   ]
  },
  {
   "cell_type": "code",
   "execution_count": 1,
   "metadata": {},
   "outputs": [
    {
     "name": "stdout",
     "output_type": "stream",
     "text": [
      "hello world\n"
     ]
    }
   ],
   "source": [
    "#This cell is a code cell.  Pressing shift-enter or using the \"Run Cell\" button \n",
    "#will evaluate the code in this cell and move to the next one.  \n",
    "#There are also hotkeys to evaluate and stay at the same cell -- control-enter.\n",
    "#The \"Run Cell\" button looks like a little black triangle.\n",
    "# 🎯 Run the code in this cell.\n",
    "\n",
    "print(\"hello world\")"
   ]
  },
  {
   "cell_type": "markdown",
   "metadata": {},
   "source": [
    "The number to the left of the cell increments every time you run it.  🎯 Be sure to reset the kernel and run all cells before committing this semester."
   ]
  },
  {
   "cell_type": "markdown",
   "metadata": {},
   "source": [
    "### Adjust your view\n",
    "\n",
    "Next, let's 🎯 turn on line numbers for code cells.  In the menu bar, you'll find `Toggle Line Numbers` under `View`."
   ]
  },
  {
   "cell_type": "markdown",
   "metadata": {},
   "source": [
    "## A quick Python preview\n",
    "\n",
    "### Variable creation, and some printing\n",
    "\n",
    "Now we'll have you run and edit some trivial Python code."
   ]
  },
  {
   "cell_type": "code",
   "execution_count": 2,
   "metadata": {},
   "outputs": [
    {
     "name": "stdout",
     "output_type": "stream",
     "text": [
      "4\n"
     ]
    }
   ],
   "source": [
    "#create a variable named a, and store the value 3+1 in it\n",
    "a = 3+1\n",
    "\n",
    "#display a\n",
    "print(a)"
   ]
  },
  {
   "cell_type": "code",
   "execution_count": 3,
   "metadata": {},
   "outputs": [
    {
     "name": "stdout",
     "output_type": "stream",
     "text": [
      "three plus one is 4\n"
     ]
    }
   ],
   "source": [
    "#you can combine multiple objects in the same print statement\n",
    "\n",
    "print(\"three plus one is {}\".format(a))"
   ]
  },
  {
   "cell_type": "markdown",
   "metadata": {},
   "source": [
    "🎯 Change the cell below to output your first and last names."
   ]
  },
  {
   "cell_type": "code",
   "execution_count": 4,
   "metadata": {},
   "outputs": [
    {
     "name": "stdout",
     "output_type": "stream",
     "text": [
      "Lystra Yates\n"
     ]
    }
   ],
   "source": [
    "#Note that the usual Python convention is to separate words in variable names using underscores\n",
    "#The document known as PEP 8 is the official Python style guide:\n",
    "#   visit it at https://www.python.org/dev/peps/pep-0008/\n",
    "#Change the code below to store *your* first and last name.\n",
    "\n",
    "first_name = \"Lystra\" # you must change this line\n",
    "last_name = \"Yates\"\n",
    "print(first_name,last_name)"
   ]
  },
  {
   "cell_type": "code",
   "execution_count": 5,
   "metadata": {},
   "outputs": [
    {
     "name": "stdout",
     "output_type": "stream",
     "text": [
      "Lystra\tYates\n",
      "LystraYates\n"
     ]
    }
   ],
   "source": [
    "#We can use the tab or \"\\t\" and newline or \"\\n\" characters to format our output.\n",
    "#Adjust the output below to format the text so that your first and last name appear in the appropriate column.\n",
    "\n",
    "print(\"Lystra\\tYates\\n{}{}\".format(first_name,last_name))"
   ]
  },
  {
   "cell_type": "markdown",
   "metadata": {},
   "source": [
    "🎯 Insert a new cell below and change it to a markdown cell by using the hotkey sequence \n",
    "1. Ensure this cell is selected -- there should be a border around it.\n",
    "2. `Escape` -- switch *command mode*.  Its opposite is `enter`, which enters edit mode.\n",
    "3. `b` -- adds a cell below the currently selected cell.  there's also `a` for above\n",
    "4. `m` -- changes cell type to Markdown.  `y` changes cell type to code.\n",
    "\n",
    "or mousing to use the dropdown menu at the top of the Jupyter notebook.  [Hotkeys are great](https://lifehacker.com/5970089/back-to-the-basics-learn-to-use-keyboard-shortcuts-like-a-ninja), check out [this cheatsheet](https://www.cheatography.com/weidadeyue/cheat-sheets/jupyter-notebook/).\n",
    "\n",
    "🎯 In the markdown cell that you create, explain your process for modifiying the preceding code cell.\n",
    "\n",
    "In general, in your homework for this class, you should use markdown cells to explain or justify your programming choices, and add narrative to the story you are telling by solving the problem."
   ]
  },
  {
   "cell_type": "markdown",
   "metadata": {},
   "source": [
    "## This explains what I changed\n",
    "I changed the code to add a space between my name by adding + ' ' +"
   ]
  },
  {
   "cell_type": "code",
   "execution_count": 6,
   "metadata": {},
   "outputs": [
    {
     "name": "stdout",
     "output_type": "stream",
     "text": [
      "Lystra Yates\n"
     ]
    }
   ],
   "source": [
    "#We can also combine strings using the + operator, but this is not preferred because it gets cumbersome quickly.\n",
    "#Adjust the output below so that it includes a space between your first and last name.\n",
    "print(first_name+' '+last_name)"
   ]
  },
  {
   "cell_type": "markdown",
   "metadata": {},
   "source": [
    "You can see a list of all of the functions associated to an object by typing the object's name followed by a period, then hitting `tab`.  Tab also compeletes on variable names you have in memory.  Tab completion rules!  This also works in R, the command line iPython, and many other environments.  \n",
    "\n",
    "🎯 Save yourself typing by using tab completion."
   ]
  },
  {
   "cell_type": "code",
   "execution_count": 7,
   "metadata": {},
   "outputs": [
    {
     "data": {
      "text/plain": [
       "'LYSTRA'"
      ]
     },
     "execution_count": 7,
     "metadata": {},
     "output_type": "execute_result"
    }
   ],
   "source": [
    "#Find a function that will convert your given name to all uppercase letters.\n",
    "# 🎯 put a period after first_name, and then push tab to explore.\n",
    "# Then evaluate (run) your function so we can see the results.\n",
    "first_name.upper()"
   ]
  },
  {
   "cell_type": "markdown",
   "metadata": {},
   "source": [
    "### Functions"
   ]
  },
  {
   "cell_type": "markdown",
   "metadata": {},
   "source": [
    "I want to introduce functions in Python straight away.  Any non-trivial program uses them.  You should learn how to use them.  If you ever find yourself writing the same code twice in a project, it's a sign that you should turn that code into a function, and call it when you need it.  Good functions are named by the action they accomplish.  It takes practice, but it's soooo worth it!"
   ]
  },
  {
   "cell_type": "markdown",
   "metadata": {},
   "source": [
    "#### Syntax"
   ]
  },
  {
   "cell_type": "code",
   "execution_count": 8,
   "metadata": {},
   "outputs": [],
   "source": [
    "def foo():\n",
    "    return 42"
   ]
  },
  {
   "cell_type": "markdown",
   "metadata": {},
   "source": [
    "The above code cell defines a function called `foo`.  Why foo? Because what it does isn't important in this context, it's just a function.  My point is how to define a function, not what any particular function does.  The name `foo` is typical of this.  When you see `foo`, or `bar`, or `baz`, it's a sign that the content of the thing isn't important, and that it's an arbitrary `foo`.  \n",
    "\n",
    "Evaluating this cell has no visible byproduct.  It invisibly defines a function called `foo` that lives in memory, and can now be called, until the Python kernel is reset and memory cleared. If that happens, you have to re-run the cell to make the function live again."
   ]
  },
  {
   "cell_type": "markdown",
   "metadata": {},
   "source": [
    "#### Keywords and symbols I just used\n",
    "\n",
    "* `def` -- Python keyword indicating that the thing that follows it is a function.\n",
    "* `:` -- The colon delimiter is important in Python.  You'll get an error without it.\n",
    "* `()` -- Required for a function, the stuff inside indicates what the function needs as arguments to operate.  There is nothing in this set of parentheses, hence this function requires 0 arguments.  \n",
    "* `tabs or spaces` -- There are four spaces indenting the line following the colon.  You need those to be in the [scope](https://python-textbok.readthedocs.io/en/1.0/Variables_and_Scope.html) of the function `foo`.\n",
    "* `return` -- What is the value that should be given back to the caller, to possibly capture?\n",
    "* `42` -- The value $42$ should be given back.  Real functions don't hardcode a single value like this, typically, but instead construct the things they give back."
   ]
  },
  {
   "cell_type": "markdown",
   "metadata": {},
   "source": [
    "#### Calling foo\n",
    "\n",
    "Let's call our arbitrary function.  It takes 0 arguments, so is called with empty parens:"
   ]
  },
  {
   "cell_type": "code",
   "execution_count": 9,
   "metadata": {},
   "outputs": [
    {
     "data": {
      "text/plain": [
       "42"
      ]
     },
     "execution_count": 9,
     "metadata": {},
     "output_type": "execute_result"
    }
   ],
   "source": [
    "foo()"
   ]
  },
  {
   "cell_type": "markdown",
   "metadata": {},
   "source": [
    "🎯 What value did you get?  42\n",
    "\n",
    "It printed to the screen in `Out[n]` because you didn't capture the value into a variable, or use the function call in a place where a value was needed.  \n",
    "\n",
    "This next cell calls `foo` but stores the result in a variable, so the value isn't printed.  This is ok.  "
   ]
  },
  {
   "cell_type": "code",
   "execution_count": 10,
   "metadata": {},
   "outputs": [],
   "source": [
    "v = foo()"
   ]
  },
  {
   "cell_type": "markdown",
   "metadata": {},
   "source": [
    "🎯 Did you run the cell?  See, no printing! Yes I did\n",
    "\n",
    "Most of the time, you don't want to print stuff to the screen.  At first, as you learn, you'll print a lot of stuff.  But know that's only because you are training.  Real code rarely `print`s, but mostly just `return`s."
   ]
  },
  {
   "cell_type": "markdown",
   "metadata": {},
   "source": [
    "#### Another example\n",
    "\n",
    "Now, I provide a less useless example.  \n",
    "\n",
    "First, we define the function.  Remember, you have to run the cell to define the function.  You only have to run the cell if \n",
    "* it hasn't been run since you (re)started your kernel\n",
    "* you changed the code in the cell"
   ]
  },
  {
   "cell_type": "code",
   "execution_count": 11,
   "metadata": {},
   "outputs": [],
   "source": [
    "import random\n",
    "\n",
    "def make_message(first, last):\n",
    "    if first in [\"given\",\"\"] or last in [\"surname\",\"\"]:\n",
    "        raise ValueError(\"Unchanged or empty first or last name\")\n",
    "    return \"Hi, {} {}, it's nice to meet you!  I'm Robot #{}\".format(first,last,random.randint(0,1000000))"
   ]
  },
  {
   "cell_type": "markdown",
   "metadata": {},
   "source": [
    "Next, we will make a call to the function."
   ]
  },
  {
   "cell_type": "code",
   "execution_count": 12,
   "metadata": {},
   "outputs": [],
   "source": [
    "var = make_message(first_name, last_name)"
   ]
  },
  {
   "cell_type": "markdown",
   "metadata": {},
   "source": [
    "We captured the message in a variable, so nothing printed.  This is good.  If we want to see the content of `var`, we can `print` it:"
   ]
  },
  {
   "cell_type": "code",
   "execution_count": 13,
   "metadata": {},
   "outputs": [
    {
     "name": "stdout",
     "output_type": "stream",
     "text": [
      "Hi, Lystra Yates, it's nice to meet you!  I'm Robot #483223\n"
     ]
    }
   ],
   "source": [
    "print(var)"
   ]
  },
  {
   "cell_type": "markdown",
   "metadata": {},
   "source": [
    "🎯 Do you like the message? No"
   ]
  },
  {
   "cell_type": "markdown",
   "metadata": {},
   "source": [
    "#### Side notes:\n",
    "\n",
    "* I just used a bunch of Python things. Here are links to pages about them, and brief notes.\n",
    "  * [`raise`](http://www.pythonforbeginners.com/error-handling/exception-handling-in-python) -- Used to propagate an exception up the call stack, for reacting to problematic conditions.  It's an art to work with exceptions.\n",
    "  * [`ValueError`](https://docs.python.org/3/library/exceptions.html) -- A built-in exception type.  Exceptions are beyond the scope of this class, but super important to learn for terminal-textfile library programming in Python, which you will do in DS730.\n",
    "  * [`random`](https://docs.python.org/3/library/random.html) -- A Python library, used for generating random numbers.  I prefer [Numpy random number generation](https://docs.scipy.org/doc/numpy-1.13.0/reference/routines.random.html) to plain `random`.\n",
    "  * [`{}`](https://pyformat.info/) -- curly braces in a string for which `format` is called are placeholders filled by the arguments to `format`.  This is modern Python formatting, and you would do well to embrace it!  Follow the preceding link, and try doing some formatted stuff.  Also, bookmark it, because you'll use it a lot.\n",
    "  \n",
    "When you are looking up stuff about Python, try to use Python3 references.  They're subtly different, but we're using Python3 in DS710.  [Python 2 will not be maintained past 2020](https://pythonclock.org/).  Don't bother learning Python version 2.  Just use 3."
   ]
  },
  {
   "cell_type": "markdown",
   "metadata": {},
   "source": [
    "## Practice\n",
    "\n",
    "If you play around in Python as part of this assignment, please consider using the space here so that we can see what you were up to!"
   ]
  },
  {
   "cell_type": "code",
   "execution_count": null,
   "metadata": {},
   "outputs": [],
   "source": []
  },
  {
   "cell_type": "markdown",
   "metadata": {},
   "source": [
    "## Tell us about yourself\n",
    "\n",
    "Now that we have had a chance to try out a few Python commands, 🎯 go ahead and create a markdown cell below, and answer the following questions.  \n",
    "\n",
    "Make it look pretty!  You will be graded on appearance.  [Here is a Markdown cheatsheet](https://github.com/adam-p/markdown-here/wiki/Markdown-Cheatsheet).  Know also that there are many flavors of markdown.  \n",
    "\n",
    "1. What is your name?\n",
    "2. Why are you interested in Data Science?\n",
    "3. Tell us a little bit about your programming experience.  What programming courses have you taken?  \n",
    "4.  Do you currently have an employer?  If so, who?  Is there already a connection to Data Science?  Do you use programming on the job, and if so, how?\n",
    "5.  Tell us a little bit about your statistics experience.  What statistics courses have you taken?  Do you use statistics on the job, and if so, how?\n",
    "6.  Do you have other experience with R or Python?\n",
    "7.  What do you hope to learn in this class?\n",
    "8.  Is there anything else you would like to share with us?"
   ]
  },
  {
   "cell_type": "markdown",
   "metadata": {},
   "source": [
    "## Data Science 710 introductions\n",
    "1.\tHello my name is *Lystra* *Yates*\n",
    "2.\tI am interested in Data Science because I believe it is the wave of the future for predicting enrollment and retention of college students.\n",
    "3.\tI have many years of programming experience, I have taken C++, java, HTML, Sequel and R. \n",
    "4.\tYes, I have an employer, UW-Stout, yes the institutional research office is using data science, I don't use much programming, only proprietary languages in our ERP system.\n",
    "5.\tI have taken actuarial science courses and statistics courses, I have used SAS and SPSS, I don’t use much statistics in my current job.\n",
    "6.\tI have some experience with R.\n",
    "7.\tI would like to learn more R code and learn Python.\n",
    "8.\tNot really."
   ]
  },
  {
   "cell_type": "markdown",
   "metadata": {},
   "source": [
    "## 🎯 Restart and run all cells\n",
    "\n",
    "Often, you will find yourself running a code cell many times.  Every time you do, the in/out counter increments.  We like to commit our sheets to GitHub in one of two states:\n",
    "1. All cells run once, top to bottom. \n",
    "2. All cells unevaluated\n",
    "\n",
    "In DS710, we would like you to, ideally, commit your notebooks in state 1 -- the cells run cleanly from top to bottom without human intervention.  Sometimes, this is unattainable, like if code needs input from a keyboard, but this is rare.\n",
    "\n",
    "* 🎯 Restart and run all, and check that all cells evaluate cleanly.  It is practically unacceptable to commit code that doesn't run cleanly, except as an incremental commit on your way to a solution.\n",
    "* 🎯 Make sure markdown cells look the way you expect.\n",
    "* 🎯 Actually *save* the notebook.  Autosaves don't generate a commitable files.  \n",
    "* 🎯 Commit your notebook.\n",
    "* 🎯 After both R and Python parts are done, make a pull request"
   ]
  },
  {
   "cell_type": "code",
   "execution_count": null,
   "metadata": {},
   "outputs": [],
   "source": []
  }
 ],
 "metadata": {
  "anaconda-cloud": {},
  "kernelspec": {
   "display_name": "Python 3",
   "language": "python",
   "name": "python3"
  },
  "language_info": {
   "codemirror_mode": {
    "name": "ipython",
    "version": 3
   },
   "file_extension": ".py",
   "mimetype": "text/x-python",
   "name": "python",
   "nbconvert_exporter": "python",
   "pygments_lexer": "ipython3",
   "version": "3.7.3"
  }
 },
 "nbformat": 4,
 "nbformat_minor": 1
}
